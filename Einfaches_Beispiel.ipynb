{
 "cells": [
  {
   "cell_type": "markdown",
   "metadata": {},
   "source": [
    "# Lineare Optimierung in Python\n",
    "Wir wollen hier kurz kennenlernen, wie man lineare Optimierungsprobleme in Python lösen kann.\n",
    "\n",
    "Zuerst müssen wir Python-Module laden, die dafür nötig sind. Das Modul `numpy` unterstützt numerische Rechnungen in Python, z.B. Rechnen mit Matrizen, Vektoren und das Lösen von Gleichungssystemen."
   ]
  },
  {
   "cell_type": "code",
   "execution_count": 1,
   "metadata": {},
   "outputs": [],
   "source": [
    "import numpy as np\n",
    "from scipy.optimize import linprog"
   ]
  },
  {
   "cell_type": "markdown",
   "metadata": {},
   "source": [
    "Wir wollen nun das Problem\n",
    "\\begin{align*}\n",
    "\\text{Minimiere} &\\quad c^\\top x \\\\\n",
    "\\text{u.d.N.} &\\quad A x = b \\\\\n",
    "&\\quad x \\ge 0\n",
    "\\end{align*}\n",
    "lösen. Dabei wollen wir die Daten\n",
    "$$\n",
    "A =\n",
    "\\begin{pmatrix} 2 & 1 & 2 \\\\ 5 & 3 & 4 \\end{pmatrix},\n",
    "\\quad\n",
    "b =\n",
    "\\begin{pmatrix} 3 \\\\ 8 \\end{pmatrix},\n",
    "\\quad\n",
    "c =\n",
    "\\begin{pmatrix} 16 \\\\ 9 \\\\ 18 \\end{pmatrix}\n",
    "$$\n",
    "nutzen.\n",
    "\n",
    "Matrizen können mittels `np.array` angelegt werden. Dabei ist die Matrix *zeilenweise* zu übergeben."
   ]
  },
  {
   "cell_type": "code",
   "execution_count": 2,
   "metadata": {},
   "outputs": [],
   "source": [
    "A = np.array([[2,1,2],[5,3,4]])"
   ]
  },
  {
   "cell_type": "markdown",
   "metadata": {},
   "source": [
    "Nun können wir überprüfen, ob das funktioniert hat."
   ]
  },
  {
   "cell_type": "code",
   "execution_count": 3,
   "metadata": {},
   "outputs": [
    {
     "name": "stdout",
     "output_type": "stream",
     "text": [
      "[[2 1 2]\n",
      " [5 3 4]]\n"
     ]
    }
   ],
   "source": [
    "print(A)"
   ]
  },
  {
   "cell_type": "markdown",
   "metadata": {},
   "source": [
    "Analog können wir die Vektoren $b$ und $c$ anlegen."
   ]
  },
  {
   "cell_type": "code",
   "execution_count": 4,
   "metadata": {},
   "outputs": [],
   "source": [
    "c = np.array([16,9,18])\n",
    "b = np.array([3,8])"
   ]
  },
  {
   "cell_type": "markdown",
   "metadata": {},
   "source": [
    "Jetzt können wir das Optimierungsproblem mittels `linprog` lösen. Diese Methode kann auch Ungleichungsnebenbedingungen $A x \\le b$ behandeln, daher müssen wir mittels `A_eq` und `b_eq` spezifizieren, dass dies Gleichungsnebenbedingungen sind. Die Dokumentation dieser Routine findet man [hier](https://docs.scipy.org/doc/scipy/reference/generated/scipy.optimize.linprog.html)."
   ]
  },
  {
   "cell_type": "code",
   "execution_count": 5,
   "metadata": {},
   "outputs": [
    {
     "name": "stdout",
     "output_type": "stream",
     "text": [
      "Optimization terminated successfully.\n",
      "         Current function value: 25.000000   \n",
      "         Iterations: 2\n"
     ]
    }
   ],
   "source": [
    "solution = linprog(c, A_eq = A, b_eq = b, options={'disp':True})"
   ]
  },
  {
   "cell_type": "markdown",
   "metadata": {},
   "source": [
    "Der Rückgabewert `solution` enthält:"
   ]
  },
  {
   "cell_type": "code",
   "execution_count": 6,
   "metadata": {},
   "outputs": [
    {
     "name": "stdout",
     "output_type": "stream",
     "text": [
      "     fun: 25.0\n",
      " message: 'Optimization terminated successfully.'\n",
      "     nit: 2\n",
      "   slack: array([], dtype=float64)\n",
      "  status: 0\n",
      " success: True\n",
      "       x: array([1., 1., 0.])\n"
     ]
    }
   ],
   "source": [
    "print(solution)"
   ]
  },
  {
   "cell_type": "markdown",
   "metadata": {},
   "source": [
    "Da die duale Lösung nicht enthalten ist, müssen wir diese selbst erstellen. Dazu konstruieren wir zuerst die Basis $J$. Die Basisvariablen sind die ersten beiden Komponenten in $x$. **Nun ist aber zu beachten, dass die Indizes in Python mit $0$ beginnen!** Daher ist $J = (0, 1)$."
   ]
  },
  {
   "cell_type": "code",
   "execution_count": 7,
   "metadata": {},
   "outputs": [],
   "source": [
    "J = [0,1]"
   ]
  },
  {
   "cell_type": "markdown",
   "metadata": {},
   "source": [
    "Um dies zu Überprüfen, berechnen wir nochmals die Basisvariablen $x^*_J = A_J^{-1} b$. Die Matrix $A_J$ erhalten wir mittels `A[:,J]`. Der `:` steht dafür, dass wir alle Zeilen auswählen und das `J` steht dafür, dass wir nur die Spalten aus `J` auswählen. Das Lösen des Gleichungssystems geschieht mittels `np.linalg.solve`."
   ]
  },
  {
   "cell_type": "code",
   "execution_count": 8,
   "metadata": {},
   "outputs": [
    {
     "data": {
      "text/plain": [
       "array([1., 1.])"
      ]
     },
     "execution_count": 8,
     "metadata": {},
     "output_type": "execute_result"
    }
   ],
   "source": [
    "np.linalg.solve(A[:,J], b)"
   ]
  },
  {
   "cell_type": "markdown",
   "metadata": {},
   "source": [
    "Die duale Lösung erhalten wir nun mittels $y = A_J^{-\\top} c_J$."
   ]
  },
  {
   "cell_type": "code",
   "execution_count": 13,
   "metadata": {},
   "outputs": [
    {
     "data": {
      "text/plain": [
       "array([3., 2.])"
      ]
     },
     "execution_count": 13,
     "metadata": {},
     "output_type": "execute_result"
    }
   ],
   "source": [
    "y = np.linalg.solve(A[:,J].T, c[J])\n",
    "y"
   ]
  },
  {
   "cell_type": "code",
   "execution_count": null,
   "metadata": {},
   "outputs": [],
   "source": []
  }
 ],
 "metadata": {
  "kernelspec": {
   "display_name": "Python 3",
   "language": "python",
   "name": "python3"
  },
  "language_info": {
   "codemirror_mode": {
    "name": "ipython",
    "version": 3
   },
   "file_extension": ".py",
   "mimetype": "text/x-python",
   "name": "python",
   "nbconvert_exporter": "python",
   "pygments_lexer": "ipython3",
   "version": "3.5.2"
  }
 },
 "nbformat": 4,
 "nbformat_minor": 2
}
