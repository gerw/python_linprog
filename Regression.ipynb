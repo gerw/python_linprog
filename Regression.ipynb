{
 "cells": [
  {
   "cell_type": "markdown",
   "metadata": {},
   "source": [
    "Zuerst laden wir wieder einige Python-Module."
   ]
  },
  {
   "cell_type": "code",
   "execution_count": 1,
   "metadata": {},
   "outputs": [],
   "source": [
    "import numpy as np\n",
    "from math import sin, exp, pi\n",
    "from scipy.optimize import linprog\n",
    "import matplotlib.pyplot as plt"
   ]
  },
  {
   "cell_type": "markdown",
   "metadata": {},
   "source": [
    "Nun definieren wir die Ansatzfunktionen $f_1(x) = \\sin(2\\,\\pi\\,x)$, $f_2(x) = \\mathrm{e}^x$ und $f_3(x) = x^2$. Unser Modell ist also $f(x,p) = p_1\\,f_1(x) + p_2\\,f_2(x) + p_3\\,f_3(x)$."
   ]
  },
  {
   "cell_type": "code",
   "execution_count": 2,
   "metadata": {},
   "outputs": [],
   "source": [
    "def f1(x):\n",
    "\treturn sin(2*pi*x)\n",
    "def f2(x):\n",
    "\treturn exp(x)\n",
    "def f3(x):\n",
    "\treturn x**2\n",
    "\n",
    "n = 3\n",
    "f = [f1, f2, f3]"
   ]
  },
  {
   "cell_type": "markdown",
   "metadata": {},
   "source": [
    "Wir legen den wahren Parameter fest, der weiter unten identifiziert werden soll."
   ]
  },
  {
   "cell_type": "code",
   "execution_count": 3,
   "metadata": {},
   "outputs": [],
   "source": [
    "p = np.array([1, 2, 3])"
   ]
  },
  {
   "cell_type": "markdown",
   "metadata": {},
   "source": [
    "Jetzt werden die Messpunkte im Intervall $[0,1]$ erstellt."
   ]
  },
  {
   "cell_type": "code",
   "execution_count": 4,
   "metadata": {},
   "outputs": [],
   "source": [
    "m = 51\n",
    "x = np.linspace(0,1,m)"
   ]
  },
  {
   "cell_type": "markdown",
   "metadata": {},
   "source": [
    "Es sollen verrauschte Messwerte erzeugt werden. Diese werden mit einer Standardnormalverteilung mit Mittelwert $0$ und einer gewissen Varianz erzeugt. Um Ausreißer zu generieren, werden zusätzlich ein Teil der Punkte stärker verrauscht."
   ]
  },
  {
   "cell_type": "code",
   "execution_count": 5,
   "metadata": {},
   "outputs": [],
   "source": [
    "# Das Rauschlevel für alle Punkte\n",
    "noise_level = 0.05\n",
    "\n",
    "# Wieviel Punkte werden stärker verrauscht?\n",
    "prob = .1\n",
    "noise_level_2 = 3."
   ]
  },
  {
   "cell_type": "markdown",
   "metadata": {},
   "source": [
    "Nun können wir die verrauschten Messwerte erzeugen."
   ]
  },
  {
   "cell_type": "code",
   "execution_count": 6,
   "metadata": {},
   "outputs": [],
   "source": [
    "y = np.zeros([m])\n",
    "for j in range(m):\n",
    "\ty[j] = 0\n",
    "\t# Auswertung der Funktionen\n",
    "\tfor i in range(n):\n",
    "\t\ty[j] += p[i] * f[i]( x[j] )\n",
    "\n",
    "\t# Verrauschen\n",
    "\ty[j] += noise_level * np.random.randn()\n",
    "\n",
    "\t# Zusätzliches Verrauschen für Ausreißer\n",
    "\tif np.random.rand() < prob:\n",
    "\t\ty[j] += noise_level_2 * np.random.randn()"
   ]
  },
  {
   "cell_type": "markdown",
   "metadata": {},
   "source": [
    "Als nächstes erstellen wir eine Matrix $A$, sodass für einen Parametervektor $p$ der Vektor $A\\,p$ gerade die Messwerte liefert, die sich mit dem Parameter $p$ ergeben."
   ]
  },
  {
   "cell_type": "code",
   "execution_count": 7,
   "metadata": {},
   "outputs": [],
   "source": [
    "A = np.zeros([m,n])\n",
    "for j in range(m):\n",
    "\tfor i in range(n):\n",
    "\t\tA[j,i] = f[i]( x[j] )"
   ]
  },
  {
   "cell_type": "markdown",
   "metadata": {},
   "source": [
    "Zunächst berechnen wir die Lösung des kleinsten-Quadrate-Problems\n",
    "$$\n",
    "\\text{Minimiere}\\quad \\| A \\, p - y \\|^2 = \\sum_{i=1}^m ((A\\,p)_i - y_i)^2 \\quad\\text{bzgl. }p.\n",
    "$$\n",
    "Dieses erhält man durch die Lösung der Normalengleichung\n",
    "$$\n",
    "(A^\\top A) p = A^\\top y.$$"
   ]
  },
  {
   "cell_type": "code",
   "execution_count": 8,
   "metadata": {},
   "outputs": [
    {
     "name": "stdout",
     "output_type": "stream",
     "text": [
      "Lösung mittels kleinster Quadrate:\n",
      "[0.95175674 2.60936217 0.5635707 ]\n"
     ]
    }
   ],
   "source": [
    "p1 = np.linalg.solve( A.T.dot(A), A.T.dot(y))\n",
    "print('Lösung mittels kleinster Quadrate:\\n%s' % np.array2string(p1))"
   ]
  },
  {
   "cell_type": "markdown",
   "metadata": {},
   "source": [
    "Wir sehen, dass die Lösung nicht besonders gut ist. Dies liegt hauptsächlich an den Ausreißern."
   ]
  },
  {
   "cell_type": "code",
   "execution_count": 9,
   "metadata": {},
   "outputs": [
    {
     "data": {
      "image/png": "[encoded data removed]",
      "text/plain": [
       "<matplotlib.figure.Figure at 0x7fb2fab64198>"
      ]
     },
     "metadata": {},
     "output_type": "display_data"
    }
   ],
   "source": [
    "fig, ax = plt.subplots()\n",
    "\n",
    "ax.plot(x, y, 'o')\n",
    "ax.plot(x, A.dot(p), '-')\n",
    "ax.plot(x, A.dot(p1), 'x')\n",
    "\n",
    "plt.show()"
   ]
  },
  {
   "cell_type": "markdown",
   "metadata": {},
   "source": [
    "Nun lösen wir ein zweites Problem, bei dem wir die Absolutwerte der Fehler summieren, also\n",
    "$$\n",
    "\\text{Minimiere}\\quad \\sum_{i=1}^m \\bigl|(A\\,p)_i - y_i\\bigr| \\quad\\text{bzgl. }p.\n",
    "$$\n",
    "In dieser Form ist das Problem recht schwer zu lösen. Allerdings werden wir sehen, dass wir das Problem durch einen einfachen Trick in ein lineares Optimierungsproblem umwandeln können. Dafür benötigen wir Hilfsvariablen $z_i$, $i = 1,\\ldots,m$. Mit den Ungleichungen\n",
    "$$\n",
    "(A\\,p)_i - y_i \\le z_i\n",
    "\\quad\\text{und}\\quad\n",
    "-((A\\,p)_i - y_i) \\le z_i\n",
    "$$\n",
    "können wir sicherstellen, dass\n",
    "$$\n",
    "\\bigl| (A\\,p)_i - y_i \\bigr| \\le z_i\n",
    "$$\n",
    "gilt. Nun minimieren wir die Summe der $z_i$ und dies hat zur Folge, dass in der Lösung die obige Ungleichung mit Gleichheit erfüllt ist. Damit müssen wir also das Problem\n",
    "\\begin{align*}\n",
    "\\text{Minimiere}\\quad& \\sum_{i=1}^m z_i\\\\\n",
    "\\text{bzgl.}\\quad& y,z\\\\\n",
    "\\text{u.d.N.}\\quad& A \\, p - z \\le y \\\\\n",
    "& -A\\,p - z \\le -y\n",
    "\\end{align*}"
   ]
  },
  {
   "cell_type": "markdown",
   "metadata": {},
   "source": [
    "Zunächst generieren wir die Daten für das Problem."
   ]
  },
  {
   "cell_type": "code",
   "execution_count": 10,
   "metadata": {},
   "outputs": [],
   "source": [
    "Q = np.bmat( ((A, -np.eye(m,m)),(-A, -np.eye(m,m))) )\n",
    "c = np.hstack((np.ones(m), np.zeros(n)))\n",
    "b = np.hstack((y,-y))"
   ]
  },
  {
   "cell_type": "markdown",
   "metadata": {},
   "source": [
    "Nun können wir das Problem lösen. (Um zuverlässig eine Lösung zu erhalten, müssen wir noch die Optionen anpassen)."
   ]
  },
  {
   "cell_type": "code",
   "execution_count": 11,
   "metadata": {},
   "outputs": [
    {
     "name": "stdout",
     "output_type": "stream",
     "text": [
      "Optimization terminated successfully.\n",
      "Anzahl Iterationen: 127\n",
      "\n",
      "Lösung mittels Fehlersumme:\n",
      "[0.81031248 2.2187443  1.78743978]\n"
     ]
    }
   ],
   "source": [
    "sol = linprog(c, A_ub = Q, b_ub = b, bounds = (None, None), options = {'maxiter': 100*m, \"tol\" : 1e-8})\n",
    "print(sol.message)\n",
    "print('Anzahl Iterationen: %d\\n' % sol.nit )\n",
    "p2 = sol.x[:3]\n",
    "print('Lösung mittels Fehlersumme:\\n%s' % np.array2string(p2))"
   ]
  },
  {
   "cell_type": "markdown",
   "metadata": {},
   "source": [
    "Nun können wir die beiden Lösungen vergleichen."
   ]
  },
  {
   "cell_type": "code",
   "execution_count": 12,
   "metadata": {},
   "outputs": [
    {
     "data": {
      "image/png": "[encoded data removed]",
      "text/plain": [
       "<matplotlib.figure.Figure at 0x7fb2f88cd438>"
      ]
     },
     "metadata": {},
     "output_type": "display_data"
    }
   ],
   "source": [
    "fig, ax = plt.subplots()\n",
    "\n",
    "ax.plot(x, y, 'o')\n",
    "ax.plot(x, A.dot(p), '-')\n",
    "ax.plot(x, A.dot(p1), 'x')\n",
    "ax.plot(x, A.dot(p2), 'x')\n",
    "\n",
    "plt.show()"
   ]
  },
  {
   "cell_type": "code",
   "execution_count": null,
   "metadata": {},
   "outputs": [],
   "source": []
  }
 ],
 "metadata": {
  "kernelspec": {
   "display_name": "Python 3",
   "language": "python",
   "name": "python3"
  },
  "language_info": {
   "codemirror_mode": {
    "name": "ipython",
    "version": 3
   },
   "file_extension": ".py",
   "mimetype": "text/x-python",
   "name": "python",
   "nbconvert_exporter": "python",
   "pygments_lexer": "ipython3",
   "version": "3.5.2"
  }
 },
 "nbformat": 4,
 "nbformat_minor": 2
}
